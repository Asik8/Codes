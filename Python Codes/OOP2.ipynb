{
 "cells": [
  {
   "cell_type": "code",
   "execution_count": 20,
   "metadata": {},
   "outputs": [
    {
     "name": "stdout",
     "output_type": "stream",
     "text": [
      "ana"
     ]
    }
   ],
   "source": [
    "# a = 'Bananana'\n",
    "# c=0\n",
    "# for i in a:\n",
    "#     print(i,end='')\n",
    "#     if(i == 'a'):\n",
    "#         c= c+1\n",
    "#         if(c==3):\n",
    "#             break\n",
    "\n",
    "\n",
    "# Another Way\n",
    "a = 'Bananana'\n",
    "\n",
    "# print(a[0:6])    \n",
    "# print(a[2:6])    \n",
    "# print(a[5:8])  \n",
    "\n",
    "\n",
    "# Another Way:\n",
    "# intro = 'Hello! i\\'m Asik'\n",
    "\n",
    "# print(intro[:-3]) \n",
    "# print(intro[-3:])\n",
    "\n",
    "# Another Way:\n",
    "\n",
    "str = 'Banana'\n",
    "l =len(str)\n",
    "\n",
    "# for i in range (2,5):\n",
    "    # print(str[i],end='') \n",
    "          \n",
    "for i in range (3,l):\n",
    "    print(str[i],end='')       \n",
    "        \n",
    "    "
   ]
  },
  {
   "cell_type": "code",
   "execution_count": 25,
   "metadata": {},
   "outputs": [
    {
     "name": "stdout",
     "output_type": "stream",
     "text": [
      "['Asik', 'Alamin', 'sadib']\n"
     ]
    }
   ],
   "source": [
    "# size = int(input())\n",
    "# my_list=[]\n",
    "\n",
    "# for i in range(size):\n",
    "#     element = input(\"\".format(i+1))\n",
    "#     my_list.append(element)\n",
    "# print(my_list)\n",
    "\n",
    "# Way 2: Works for integer and string both\n",
    "# size = int(input())\n",
    "# my_list=[]\n",
    "\n",
    "# for i in range(size):\n",
    "#     element = input(format(i+1))\n",
    "#     my_list.append(element)\n",
    "# print(my_list)\n",
    "\n",
    "\n",
    "size = int(input())\n",
    "my_list=[]\n",
    "\n",
    "for i in range(size):\n",
    "    element = input(format(i+1))\n",
    "    my_list.append(element)\n",
    "print(my_list[0:3])\n",
    "\n",
    "\n",
    "# Way 3: \n",
    "\n"
   ]
  }
 ],
 "metadata": {
  "kernelspec": {
   "display_name": "Python 3",
   "language": "python",
   "name": "python3"
  },
  "language_info": {
   "codemirror_mode": {
    "name": "ipython",
    "version": 3
   },
   "file_extension": ".py",
   "mimetype": "text/x-python",
   "name": "python",
   "nbconvert_exporter": "python",
   "pygments_lexer": "ipython3",
   "version": "3.12.1"
  }
 },
 "nbformat": 4,
 "nbformat_minor": 2
}
