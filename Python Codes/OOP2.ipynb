{
 "cells": [
  {
   "cell_type": "code",
   "execution_count": 20,
   "metadata": {},
   "outputs": [
    {
     "name": "stdout",
     "output_type": "stream",
     "text": [
      "ana"
     ]
    }
   ],
   "source": [
    "# a = 'Bananana'\n",
    "# c=0\n",
    "# for i in a:\n",
    "#     print(i,end='')\n",
    "#     if(i == 'a'):\n",
    "#         c= c+1\n",
    "#         if(c==3):\n",
    "#             break\n",
    "\n",
    "\n",
    "# Another Way\n",
    "a = 'Bananana'\n",
    "\n",
    "# print(a[0:6])    \n",
    "# print(a[2:6])    \n",
    "# print(a[5:8])  \n",
    "\n",
    "\n",
    "# Another Way:\n",
    "# intro = 'Hello! i\\'m Asik'\n",
    "\n",
    "# print(intro[:-3]) \n",
    "# print(intro[-3:])\n",
    "\n",
    "# Another Way:\n",
    "\n",
    "str = 'Banana'\n",
    "l =len(str)\n",
    "\n",
    "# for i in range (2,5):\n",
    "    # print(str[i],end='') \n",
    "          \n",
    "for i in range (3,l):\n",
    "    print(str[i],end='')       \n",
    "        \n",
    "    "
   ]
  },
  {
   "cell_type": "code",
   "execution_count": null,
   "metadata": {},
   "outputs": [],
   "source": []
  },
  {
   "cell_type": "code",
   "execution_count": 25,
   "metadata": {},
   "outputs": [
    {
     "name": "stdout",
     "output_type": "stream",
     "text": [
      "['Asik', 'Alamin', 'sadib']\n"
     ]
    }
   ],
   "source": [
    "# Way 1: Works for integer and string both\n",
    "# size = int(input())\n",
    "# my_list=[]\n",
    "\n",
    "# for i in range(size):\n",
    "#     element = input(\"\".format(i+1))\n",
    "#     my_list.append(element)\n",
    "# print(my_list)\n",
    "\n",
    "# Way 2: Works for integer and string both\n",
    "# size = int(input())\n",
    "# my_list=[]\n",
    "\n",
    "# for i in range(size):\n",
    "#     element = input(format(i+1))\n",
    "#     my_list.append(element)\n",
    "# print(my_list)\n",
    "\n",
    "\n",
    "size = int(input())\n",
    "my_list=[]\n",
    "\n",
    "for i in range(size):\n",
    "    element = input(format(i+1))\n",
    "    my_list.append(element)\n",
    "print(my_list[0:3])\n",
    "\n",
    "\n",
    "# Way 3: \n",
    "\n"
   ]
  },
  {
   "cell_type": "code",
   "execution_count": 28,
   "metadata": {},
   "outputs": [
    {
     "name": "stdout",
     "output_type": "stream",
     "text": [
      "Your Ticket Price will be 100.0\n"
     ]
    }
   ],
   "source": [
    "price = 200\n",
    "gender = input(\"Enter Your Gender: \")\n",
    "Position = input(\"Enter Your Position: \")\n",
    "\n",
    "if(gender == 'male' and Position == 'Chatroleague'):\n",
    "    print('Your Ticket Price will be',(70/100)*price)\n",
    "    \n",
    "elif(gender == 'male' and Position == 'Chatrodol'):\n",
    "    print('Your Ticket Price will be',(150/100)*price)\n",
    "    \n",
    "elif(gender == 'female' and Position == 'Chatrodol'):\n",
    "    print('Your Ticket Price will be',(130/100)*price)\n",
    "    \n",
    "elif(gender == 'female' and Position == 'Chatroleague'):\n",
    "    print('Your Ticket Price will be',(50/100)*price)\n",
    "\n",
    "else:\n",
    "    print('Your Ticket Price will be',price)   "
   ]
  },
  {
   "cell_type": "code",
   "execution_count": 30,
   "metadata": {},
   "outputs": [
    {
     "name": "stdout",
     "output_type": "stream",
     "text": [
      "2500\n"
     ]
    }
   ],
   "source": [
    "unit = 400\n",
    "unit = unit -100\n",
    "\n",
    "if(unit == 0 or unit <0):\n",
    "    print(0)\n",
    "elif(unit <=100 and unit>0):\n",
    "    print(unit*5)\n",
    "elif(unit >100):\n",
    "    price = 500+(unit-100)*10\n",
    "    print(price)"
   ]
  },
  {
   "cell_type": "code",
   "execution_count": 38,
   "metadata": {},
   "outputs": [
    {
     "name": "stdout",
     "output_type": "stream",
     "text": [
      "Prime Number\n"
     ]
    }
   ],
   "source": [
    "import math\n",
    "\n",
    "a = int(input())\n",
    "b = int(math.sqrt(a))\n",
    "c=0\n",
    "\n",
    "for i in range(2,b):\n",
    "    if(a % i == 0):\n",
    "        c = c+1\n",
    "        break\n",
    "if(c>0):\n",
    "    print(\"Not a Prime Number\")\n",
    "else:\n",
    "    print('Prime Number')"
   ]
  },
  {
   "cell_type": "code",
   "execution_count": 6,
   "metadata": {},
   "outputs": [
    {
     "name": "stdout",
     "output_type": "stream",
     "text": [
      "asik"
     ]
    }
   ],
   "source": [
    "# 22 February 2024\n",
    "# Stack in Python:\n",
    "stack =[]\n",
    "while True:\n",
    "    a = input()\n",
    "    if(a == 'close'):\n",
    "        break\n",
    "    stack.append(a)\n",
    "\n",
    "length = len(stack)\n",
    "\n",
    "for i in range(length):\n",
    "    print(stack.pop(),end = '')\n",
    "    \n",
    "# It checks if the stack is empt or not\n",
    "is_empty = len(stack) == 0\n",
    "\n",
    "# create a stack and push 5,6,8,101,1000,200 and then pop tp 3 elements. print the stack in every "
   ]
  },
  {
   "cell_type": "code",
   "execution_count": 10,
   "metadata": {},
   "outputs": [
    {
     "name": "stdout",
     "output_type": "stream",
     "text": [
      "[1, 2, 3, 4, 5]\n",
      "[3, 6, 9, 12, 15]\n",
      "[6, 12, 18, 24, 30, 36, 42, 48, 54]\n",
      "[2, 4, 6, 8, 10, 12, 14, 16, 18]\n"
     ]
    }
   ],
   "source": [
    "# List Comperhensions\n",
    "\n",
    "list = [item for item in range(1,6)]\n",
    "print(list)\n",
    "\n",
    "list1 = [item*3 for item in range(1,6)]\n",
    "print(list1)\n",
    "\n",
    "list2 = [item*3 for item in range(1,20) if item % 2 ==0]\n",
    "print(list2)\n",
    "\n",
    "list3 = [item for item in range(1,20) if item % 2 ==0]\n",
    "print(list3)"
   ]
  },
  {
   "cell_type": "code",
   "execution_count": 11,
   "metadata": {},
   "outputs": [
    {
     "name": "stdout",
     "output_type": "stream",
     "text": [
      "49 25 9 81 1089 "
     ]
    }
   ],
   "source": [
    "numbers = [10,7,6,5,4,3,8,9,33]\n",
    "\n",
    "for value in (x**2 for x in numbers if x%2!=0):\n",
    "    print(value, end=' ')"
   ]
  },
  {
   "cell_type": "code",
   "execution_count": 14,
   "metadata": {},
   "outputs": [
    {
     "name": "stdout",
     "output_type": "stream",
     "text": [
      "[[0, 0, 0, 0, 0, 0], [0, 0, 0, 0, 0, 0], [0, 0, 0, 0, 0, 0], [0, 0, 0, 0, 0, 0], [0, 0, 0, 0, 0, 0]]\n",
      "0\n",
      "0 0 0 0 0 0 \n",
      "0 0 0 0 0 0 \n",
      "0 0 0 0 0 0 \n",
      "0 0 0 0 0 0 \n",
      "0 0 0 0 0 0 \n"
     ]
    }
   ],
   "source": [
    "# 2D list in python:\n",
    "\n",
    "rows = int(input('Enter Rows: '))\n",
    "col= int(input('Enter colunms: '))\n",
    "\n",
    "array_2d = [[0 for _ in range(col)] for _ in range(rows)]\n",
    "print(array_2d)\n",
    "print(array_2d[0][0])\n",
    "\n",
    "for i in range(rows):\n",
    "    for j in range(col):\n",
    "        print(array_2d[i][j], end=' ')\n",
    "    print()"
   ]
  },
  {
   "cell_type": "code",
   "execution_count": 16,
   "metadata": {},
   "outputs": [
    {
     "name": "stdout",
     "output_type": "stream",
     "text": [
      "['5', '4', '3', '2', '6']\n",
      "['4', '6', '7', '9', '8']\n",
      "['3', '4', '6', '8', '6']\n",
      "['1', '4', '2', '3', '6']\n",
      "['1', '5', '6', '3', '4']\n"
     ]
    }
   ],
   "source": [
    "n = int(input())\n",
    "\n",
    "grid =[]\n",
    "\n",
    "for _ in range(n):\n",
    "    row = input().split()\n",
    "    grid.append(row)\n",
    "for L in grid:\n",
    "    print(L)"
   ]
  },
  {
   "cell_type": "code",
   "execution_count": 6,
   "metadata": {},
   "outputs": [
    {
     "name": "stdout",
     "output_type": "stream",
     "text": [
      "[4976, 5031, 6030]\n"
     ]
    }
   ],
   "source": [
    "# 28 February:\n",
    "# t = int(input())\n",
    "\n",
    "# for _ in range(t):\n",
    "#     a = input()\n",
    "#     count = 0\n",
    "#     for ch in a:\n",
    "#         if ch == 'T':\n",
    "#             count +=1\n",
    "            \n",
    "#     print(count)\n",
    "\n",
    "s = int(input())\n",
    "l = list(map(int,input().split()))\n",
    "l.sort()\n",
    "print(l)\n"
   ]
  },
  {
   "cell_type": "code",
   "execution_count": 5,
   "metadata": {},
   "outputs": [
    {
     "name": "stdout",
     "output_type": "stream",
     "text": [
      "{4976: 58, 4553: 99}\n",
      "4553 99\n"
     ]
    }
   ],
   "source": [
    "# Dictionary\n",
    "\n",
    "student_info = {}\n",
    "\n",
    "while True:\n",
    "    run = input(\"Want's to continue 'Yes' else 'quit\")\n",
    "    if run == 'quit':\n",
    "        break\n",
    "    student_id = int(input())\n",
    "    student_result = int(input())\n",
    "    student_info[student_id] = student_result\n",
    "\n",
    "print(student_info)\n",
    "\n",
    "task = input(\"Insert 'H' for highest or 'L' for Lowest \")\n",
    "\n",
    "if task == 'H':\n",
    "    max_mark = max(student_info,key = student_info.get)\n",
    "    print (max_mark,end =' ')\n",
    "    print (student_info[max_mark])\n",
    "    \n",
    "elif task == 'L':\n",
    "    min_mark = min(student_info,key = student_info.get)\n",
    "    print (min_mark,end =' ')\n",
    "    print (student_info[min_mark])\n",
    "        \n",
    "    \n",
    "    "
   ]
  }
 ],
 "metadata": {
  "kernelspec": {
   "display_name": "Python 3",
   "language": "python",
   "name": "python3"
  },
  "language_info": {
   "codemirror_mode": {
    "name": "ipython",
    "version": 3
   },
   "file_extension": ".py",
   "mimetype": "text/x-python",
   "name": "python",
   "nbconvert_exporter": "python",
   "pygments_lexer": "ipython3",
   "version": "3.12.1"
  }
 },
 "nbformat": 4,
 "nbformat_minor": 2
}
